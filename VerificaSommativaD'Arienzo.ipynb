{
  "nbformat": 4,
  "nbformat_minor": 0,
  "metadata": {
    "colab": {
      "provenance": [],
      "authorship_tag": "ABX9TyO2tHJza0jRAv9nHlrK8mV+",
      "include_colab_link": true
    },
    "kernelspec": {
      "name": "python3",
      "display_name": "Python 3"
    },
    "language_info": {
      "name": "python"
    }
  },
  "cells": [
    {
      "cell_type": "markdown",
      "metadata": {
        "id": "view-in-github",
        "colab_type": "text"
      },
      "source": [
        "<a href=\"https://colab.research.google.com/github/Leonardodarienzo/verifiche-corrette/blob/main/VerificaSommativaD'Arienzo.ipynb\" target=\"_parent\"><img src=\"https://colab.research.google.com/assets/colab-badge.svg\" alt=\"Open In Colab\"/></a>"
      ]
    },
    {
      "cell_type": "markdown",
      "source": [
        "Correzzione Esercizio 1\n"
      ],
      "metadata": {
        "id": "_vYWuthtBOA7"
      }
    },
    {
      "cell_type": "markdown",
      "source": [
        "1.gli ultimi due versamenti di ogni amico: visualizzare in nome e i versamenti"
      ],
      "metadata": {
        "id": "pXU0P1hlBVf6"
      }
    },
    {
      "cell_type": "code",
      "source": [
        "cassaComune={\"Aldo\":[10,20,40,100,5],\"Gianni\":[50,50,25,30],\"Andrea\":[200,150],\"Miki\":[5,5,10,15,5,5,10,5,2]}\n",
        "cassaComune"
      ],
      "metadata": {
        "colab": {
          "base_uri": "https://localhost:8080/"
        },
        "id": "-ykEp0rlBfMa",
        "outputId": "296f1424-f750-4730-e832-23d9efc8e98b"
      },
      "execution_count": null,
      "outputs": [
        {
          "output_type": "execute_result",
          "data": {
            "text/plain": [
              "{'Aldo': [10, 20, 40, 100, 5],\n",
              " 'Gianni': [50, 50, 25, 30],\n",
              " 'Andrea': [200, 150],\n",
              " 'Miki': [5, 5, 10, 15, 5, 5, 10, 5, 2]}"
            ]
          },
          "metadata": {},
          "execution_count": 28
        }
      ]
    },
    {
      "cell_type": "code",
      "source": [
        "3.5*60.2"
      ],
      "metadata": {
        "id": "YRnN43sCDY6Z"
      },
      "execution_count": null,
      "outputs": []
    },
    {
      "cell_type": "markdown",
      "source": [
        "2.il totale versato da ogni amico: visualizzare in nome e il totale"
      ],
      "metadata": {
        "id": "V-4gBAYzBhIB"
      }
    },
    {
      "cell_type": "code",
      "source": [
        "for amico,versamenti in cassaComune.items():\n",
        "  print(amico,'-',sum(versamenti))"
      ],
      "metadata": {
        "id": "9FUGD9HDBnfB"
      },
      "execution_count": null,
      "outputs": []
    },
    {
      "cell_type": "markdown",
      "source": [
        "3.l’amico che ha versato di più"
      ],
      "metadata": {
        "id": "Q1b2IUFJEMUZ"
      }
    },
    {
      "cell_type": "code",
      "source": [
        "lista=[]\n",
        "for amico,versamenti in cassaComune.items():\n",
        "  lista.append(sum(versamenti))\n",
        "  massimo=max(lista)\n",
        "for amico,versamenti in cassaComune.items():\n",
        "  if sum(versamenti)== massimo:\n",
        "    print(amico)"
      ],
      "metadata": {
        "id": "cj4hZ26TDrG5"
      },
      "execution_count": null,
      "outputs": []
    },
    {
      "cell_type": "markdown",
      "source": [
        "4.dato il nome di un amico, inserito dall’utente, visualizzare i suoi versamenti a partire dal minore fino al maggiore. Controllare che il nome dell’amico sia presente, altrimenti dare un messaggio di errore opportuno"
      ],
      "metadata": {
        "id": "CeEyHOASERHA"
      }
    },
    {
      "cell_type": "code",
      "source": [
        "nc=input(\"inserire uno degli amici:\")\n",
        "if nc in cassaComune:\n",
        "  print(nc ,\":\",sorted(cassaComune[nc]))\n",
        "else:\n",
        "  print(\"nome non presente tra gli amici\")"
      ],
      "metadata": {
        "id": "xHMCISOkEVRg"
      },
      "execution_count": null,
      "outputs": []
    },
    {
      "cell_type": "markdown",
      "source": [
        "5.Andrea ha ottenuto un rimborso premio delle sue spese: eliminarlo dalla struttura dati"
      ],
      "metadata": {
        "id": "36biGWkUFg5x"
      }
    },
    {
      "cell_type": "code",
      "source": [
        "cassaComune.pop(\"Andrea\")#correzione\n",
        "cassaComune"
      ],
      "metadata": {
        "id": "u7U1FxumFhax"
      },
      "execution_count": null,
      "outputs": []
    },
    {
      "cell_type": "code",
      "source": [
        "del cassaComune[\"Andrea\"]\n",
        "cassaComune"
      ],
      "metadata": {
        "id": "zjcaJTM2G_gf"
      },
      "execution_count": null,
      "outputs": []
    },
    {
      "cell_type": "markdown",
      "source": [
        "Esercizio 3"
      ],
      "metadata": {
        "id": "zcJug7gQO_7D"
      }
    },
    {
      "cell_type": "markdown",
      "source": [
        "1.caricare il dataset nel prorio drive nella cartella colab notebooks.Caricare poi i dati in u dataframe di pandas"
      ],
      "metadata": {
        "id": "3nO0FCFXQJ2p"
      }
    },
    {
      "cell_type": "code",
      "source": [
        "from google.colab import drive\n",
        "drive.mount('/content/drive',force_remount=True)\n",
        "import pandas as pd"
      ],
      "metadata": {
        "id": "C7DWegrJPCLa"
      },
      "execution_count": null,
      "outputs": []
    },
    {
      "cell_type": "code",
      "source": [
        "df = pd.read_csv('/content/drive/MyDrive/Colab Notebooks/df_3.csv')\n",
        "df"
      ],
      "metadata": {
        "id": "4NmyMNYYPjeq"
      },
      "execution_count": null,
      "outputs": []
    },
    {
      "cell_type": "markdown",
      "source": [
        "2.visualizzare in due modi gli ultimi 10 record"
      ],
      "metadata": {
        "id": "KmuKsqC5P8ms"
      }
    },
    {
      "cell_type": "code",
      "source": [
        "df[[\"Name\"]].tail(11)"
      ],
      "metadata": {
        "id": "DpsCo2HeP7Wj"
      },
      "execution_count": null,
      "outputs": []
    },
    {
      "cell_type": "code",
      "source": [
        "df[[\"Name\"]][-11:]"
      ],
      "metadata": {
        "id": "JRlWjeXTRTYd"
      },
      "execution_count": null,
      "outputs": []
    },
    {
      "cell_type": "markdown",
      "source": [
        "3.visualizzare la seconda e la terza colonna delle righe dalla 200 alla 210(comprese)"
      ],
      "metadata": {
        "id": "QyAKvt1_QzT6"
      }
    },
    {
      "cell_type": "code",
      "source": [
        "df[[\"Name\",\"Chief developer, company\"]][200:211]"
      ],
      "metadata": {
        "id": "b43qvpJaQ866"
      },
      "execution_count": null,
      "outputs": []
    },
    {
      "cell_type": "markdown",
      "source": [
        "4.visualizzare i 10 record centrali.Fare in modo che il codice possa funzionare anche se dovesse cambiare la lunghezza del dataframe"
      ],
      "metadata": {
        "id": "2yGo4dHARPQy"
      }
    },
    {
      "cell_type": "code",
      "source": [
        "df.count()"
      ],
      "metadata": {
        "id": "ny0ctMzZRr7p"
      },
      "execution_count": null,
      "outputs": []
    },
    {
      "cell_type": "code",
      "source": [
        "df[[\"Name\",\"Chief developer, company\",\"Year\",\"Predecessor(s)\"]][187:198]"
      ],
      "metadata": {
        "id": "ZKamPhdLccVC"
      },
      "execution_count": null,
      "outputs": []
    },
    {
      "cell_type": "code",
      "source": [],
      "metadata": {
        "id": "ht-u4ILbYd8N"
      },
      "execution_count": null,
      "outputs": []
    },
    {
      "cell_type": "markdown",
      "source": [
        "5.visualizzare il numero di linguaggi di programmazione di cui non si conosce il predecessore"
      ],
      "metadata": {
        "id": "n9-4dxNBRtBR"
      }
    },
    {
      "cell_type": "code",
      "source": [
        "df[df[\"Predecessor(s)\"].isnull()].count()"
      ],
      "metadata": {
        "id": "UW9rgaVLS_gS"
      },
      "execution_count": null,
      "outputs": []
    },
    {
      "cell_type": "markdown",
      "source": [
        "6.visualizzare i linguaggi di programmazione che hanno la prola pascal nel nome"
      ],
      "metadata": {
        "id": "Of_jglr8ToRr"
      }
    },
    {
      "cell_type": "code",
      "source": [
        "df[df[\"Name\"].str.contains(\"Pascal\")][\"Name\"]"
      ],
      "metadata": {
        "id": "LKIwY2MXT4YV"
      },
      "execution_count": null,
      "outputs": []
    },
    {
      "cell_type": "markdown",
      "source": [
        "7.visualizzare i linguaggi di programmazione che hanno la parola C++ nel nome"
      ],
      "metadata": {
        "id": "2rrkyPduUCkS"
      }
    },
    {
      "cell_type": "code",
      "source": [
        "df[df[\"Name\"].str.contains(\"C\\+\\+\")][\"Name\"]"
      ],
      "metadata": {
        "id": "LoxO1pz3UInh"
      },
      "execution_count": null,
      "outputs": []
    },
    {
      "cell_type": "markdown",
      "source": [
        "8.visualizzare gli anni in cui sono stati inventati più di 5 linguaggi di programmazione"
      ],
      "metadata": {
        "id": "1rrn43KSVKHC"
      }
    },
    {
      "cell_type": "code",
      "source": [
        "dfgroup=df.groupby('Year').count()[[\"Name\"]]\n",
        "dfgroup"
      ],
      "metadata": {
        "id": "Y0xx_qeGVkB6"
      },
      "execution_count": null,
      "outputs": []
    },
    {
      "cell_type": "code",
      "source": [
        "dfgroup[dfgroup.Name>5]"
      ],
      "metadata": {
        "id": "XAfW7PqsWK6K"
      },
      "execution_count": null,
      "outputs": []
    },
    {
      "cell_type": "markdown",
      "source": [
        "9.rappresentare i dati dell'esercizio precedente con un grafico a barre orizzontali, specificando bene titolo, assi e legenda.Dare colori diversi alle barre"
      ],
      "metadata": {
        "id": "e92VJ47sWR9S"
      }
    },
    {
      "cell_type": "code",
      "source": [
        "import matplotlib.pyplot as plt\n",
        "import numpy as np"
      ],
      "metadata": {
        "id": "Xzg_V_xRXI-x"
      },
      "execution_count": null,
      "outputs": []
    },
    {
      "cell_type": "code",
      "source": [
        "dfdati = df.groupby(\"Year\").count()[[\"Name\"]].reset_index()\n",
        "labels = dfdati['Year']\n",
        "dati = dfdati['Name']\n",
        "\n",
        "\n",
        "fig, ax = plt.subplots(figsize=(15,10))\n",
        "ax.barh(labels, dati, label='numero di provincie per ogni regione')"
      ],
      "metadata": {
        "id": "mc8O1QqfWm2d"
      },
      "execution_count": null,
      "outputs": []
    },
    {
      "cell_type": "markdown",
      "source": [
        "Esercizio 2"
      ],
      "metadata": {
        "id": "hu6sd7jcYZWS"
      }
    },
    {
      "cell_type": "markdown",
      "source": [
        "1.utlizzare la list comprehension per caricare una lista da 100 numeri casuali compresi tra 1 e 20(estremi inculsi)"
      ],
      "metadata": {
        "id": "tVIcbLuxZ4SC"
      }
    },
    {
      "cell_type": "code",
      "source": [
        "import random\n",
        "listacasuale  = [random.randint(1,20)for _ in range (100)]\n",
        "print(listacasuale)"
      ],
      "metadata": {
        "id": "owL-raEQZAbh"
      },
      "execution_count": null,
      "outputs": []
    },
    {
      "cell_type": "markdown",
      "source": [
        "2.scrivere il codice per caricare un opportuna struttura dati(una sola struttura dati)il numero di volte che ogni numero si ripete.Ad esempio se la lista contenesse[4,5,4,2,5]bisognerebbe memorizzare nella struttura dati il fatto che il 4 si ripete tre volte, il 5 due volte, il 2 una sola volta.Chiamare lka struttura dati \"ripetizioni\""
      ],
      "metadata": {
        "id": "KoiC5z6_aFsB"
      }
    },
    {
      "cell_type": "code",
      "source": [
        "#correzione\n",
        "ripetizioni = {i:listacasuale.count(i) for i in listacasuale}\n",
        "print(ripetizioni)\n",
        "print(type(ripetizioni))"
      ],
      "metadata": {
        "id": "AKMHfW_fan6R"
      },
      "execution_count": null,
      "outputs": []
    },
    {
      "cell_type": "markdown",
      "source": [
        "3.visualizzare l'elenco dei numeri della struura dati nella forma <numero>"
      ],
      "metadata": {
        "id": "g9FpG3gRaxMp"
      }
    },
    {
      "cell_type": "code",
      "source": [
        "for key,value in ripetizioni.items():\n",
        "  print(key,\"è stato ripetuto\",value)"
      ],
      "metadata": {
        "id": "wYuMYhKgarxh"
      },
      "execution_count": null,
      "outputs": []
    },
    {
      "cell_type": "markdown",
      "source": [
        "4.Visualizzare l’elenco precedente ordinandolo in ordine decrescente sul numero di ripetizioni"
      ],
      "metadata": {
        "id": "eIhMNFLUUu9t"
      }
    },
    {
      "cell_type": "code",
      "source": [],
      "metadata": {
        "id": "AxmBnWRYU2Rl"
      },
      "execution_count": null,
      "outputs": []
    }
  ]
}