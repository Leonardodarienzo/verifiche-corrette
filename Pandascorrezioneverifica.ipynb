{
  "nbformat": 4,
  "nbformat_minor": 0,
  "metadata": {
    "colab": {
      "provenance": [],
      "authorship_tag": "ABX9TyMS/wIvoZA9sdZHQLB7aGiw",
      "include_colab_link": true
    },
    "kernelspec": {
      "name": "python3",
      "display_name": "Python 3"
    },
    "language_info": {
      "name": "python"
    }
  },
  "cells": [
    {
      "cell_type": "markdown",
      "metadata": {
        "id": "view-in-github",
        "colab_type": "text"
      },
      "source": [
        "<a href=\"https://colab.research.google.com/github/Leonardodarienzo/verifiche-corrette/blob/main/Pandascorrezioneverifica.ipynb\" target=\"_parent\"><img src=\"https://colab.research.google.com/assets/colab-badge.svg\" alt=\"Open In Colab\"/></a>"
      ]
    },
    {
      "cell_type": "markdown",
      "source": [
        "caricare i dati del file in un dataframe pandas"
      ],
      "metadata": {
        "id": "pHNvYflRqVLQ"
      }
    },
    {
      "cell_type": "code",
      "execution_count": null,
      "metadata": {
        "id": "-W9BmRciqReb"
      },
      "outputs": [],
      "source": [
        "import pandas as pd"
      ]
    },
    {
      "cell_type": "code",
      "source": [
        "df = pd.read_csv('https://raw.githubusercontent.com/wtitze/3E/main/2010.csv', sep=\";\")\n",
        "df"
      ],
      "metadata": {
        "id": "EvA1STZhq7dH"
      },
      "execution_count": null,
      "outputs": []
    },
    {
      "cell_type": "markdown",
      "source": [
        "visualizzare le colonne del titolo e del genere dei primi 10 film"
      ],
      "metadata": {
        "id": "obR8udgXrpAY"
      }
    },
    {
      "cell_type": "code",
      "source": [
        "df[[\"Title\",\"Genres\"]].head(10)"
      ],
      "metadata": {
        "id": "3Gbw5jtirxcg"
      },
      "execution_count": null,
      "outputs": []
    },
    {
      "cell_type": "markdown",
      "source": [
        "visualizzare le colonne del titolo e del genere dei primi 10 film in un modo diverso dal precedent"
      ],
      "metadata": {
        "id": "qOaVCks2rxr3"
      }
    },
    {
      "cell_type": "code",
      "source": [
        "df[[\"Title\",\"Genres\"]][0:10]"
      ],
      "metadata": {
        "id": "aDCEFLMSrx6f"
      },
      "execution_count": null,
      "outputs": []
    },
    {
      "cell_type": "markdown",
      "source": [
        "visualizzare i film in inglese realizzati in Francia"
      ],
      "metadata": {
        "id": "up83rW1DryI3"
      }
    },
    {
      "cell_type": "code",
      "source": [
        "df[(df[\"Language\"]== \"English\")& (df[\"Country\"]== \"France\")]"
      ],
      "metadata": {
        "id": "xkkGg81mryX_"
      },
      "execution_count": null,
      "outputs": []
    },
    {
      "cell_type": "markdown",
      "source": [
        "visualizzare i film di guerra drammatici"
      ],
      "metadata": {
        "id": "PJMMw_p6ryjY"
      }
    },
    {
      "cell_type": "code",
      "source": [
        "df[(df[\"Genres\"].str.contains('Drama')) & (df[\"Genres\"].str.contains('war'))]"
      ],
      "metadata": {
        "id": "iJ6Jx6qnry0A"
      },
      "execution_count": null,
      "outputs": []
    },
    {
      "cell_type": "markdown",
      "source": [
        " visualizzare i film fantasy e i thriller"
      ],
      "metadata": {
        "id": "JyPv1wq8ry-3"
      }
    },
    {
      "cell_type": "code",
      "source": [],
      "metadata": {
        "id": "E3npPVPxuaaI"
      },
      "execution_count": null,
      "outputs": []
    },
    {
      "cell_type": "markdown",
      "source": [
        "visualizzare i film di guerra realizzati in spagna"
      ],
      "metadata": {
        "id": "UgEpleAuuam4"
      }
    },
    {
      "cell_type": "code",
      "source": [
        "len(df[(df[\"Country\"] == \"Spain\")& (df[\"Genres\"] == \"war\")])"
      ],
      "metadata": {
        "id": "VA3dGDIEua3I"
      },
      "execution_count": null,
      "outputs": []
    },
    {
      "cell_type": "code",
      "source": [
        "df[(df[\"Country\"] == \"Spain\")& (df[\"Genres\"].str.contains('war'))]"
      ],
      "metadata": {
        "id": "sPcpRSODvk6I"
      },
      "execution_count": null,
      "outputs": []
    },
    {
      "cell_type": "markdown",
      "source": [
        "visualizzare i tittoli dei film di cui non si conosce il budget"
      ],
      "metadata": {
        "id": "5u-4rP3OubL4"
      }
    },
    {
      "cell_type": "code",
      "source": [
        "df[df[\"Budget\"].isnull()][\"Title\"]"
      ],
      "metadata": {
        "id": "H6DGsjocubvJ"
      },
      "execution_count": null,
      "outputs": []
    },
    {
      "cell_type": "markdown",
      "source": [
        "visualizzare i titoli dei film e il relativo regista. Ordinare a partire dal film che ha il budget più alto"
      ],
      "metadata": {
        "id": "HJN7PVipwcvR"
      }
    },
    {
      "cell_type": "code",
      "source": [
        "df.sort_values(by=\"Budget\",ascending = False)[['Title', 'Director']]"
      ],
      "metadata": {
        "id": "-vVw8w70wh5x"
      },
      "execution_count": null,
      "outputs": []
    },
    {
      "cell_type": "markdown",
      "source": [
        "visualizzare i titoli dei film che hanno incassato più di quanto è stato speso per realizzarli"
      ],
      "metadata": {
        "id": "fS4a_wDhwiYg"
      }
    },
    {
      "cell_type": "code",
      "source": [
        "df[df[\"Budget\"]< df[\"Gross Earnings\"]][[\"Title\"]]"
      ],
      "metadata": {
        "id": "vERFGRRbw2Px"
      },
      "execution_count": null,
      "outputs": []
    },
    {
      "cell_type": "markdown",
      "source": [
        "visualizzare i film in cui ha recitato Johnny Depp"
      ],
      "metadata": {
        "id": "7A_RmNzmx1jI"
      }
    },
    {
      "cell_type": "code",
      "source": [
        "df[df[\"actor 1\"].str.contains(\"Johnny Depp\")]"
      ],
      "metadata": {
        "id": "2Rvc0Msjx4Qg"
      },
      "execution_count": null,
      "outputs": []
    }
  ]
}