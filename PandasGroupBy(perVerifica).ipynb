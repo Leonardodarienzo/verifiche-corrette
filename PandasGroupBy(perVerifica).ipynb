{
  "nbformat": 4,
  "nbformat_minor": 0,
  "metadata": {
    "colab": {
      "provenance": [],
      "mount_file_id": "1jsXihCSGIVHGL_wGwrs0nrqPw5xjcmZ3",
      "authorship_tag": "ABX9TyPccpHv6+GP6/AM0s2hxAo5",
      "include_colab_link": true
    },
    "kernelspec": {
      "name": "python3",
      "display_name": "Python 3"
    },
    "language_info": {
      "name": "python"
    }
  },
  "cells": [
    {
      "cell_type": "markdown",
      "metadata": {
        "id": "view-in-github",
        "colab_type": "text"
      },
      "source": [
        "<a href=\"https://colab.research.google.com/github/Leonardodarienzo/verifiche-corrette/blob/main/PandasGroupBy(perVerifica).ipynb\" target=\"_parent\"><img src=\"https://colab.research.google.com/assets/colab-badge.svg\" alt=\"Open In Colab\"/></a>"
      ]
    },
    {
      "cell_type": "markdown",
      "source": [],
      "metadata": {
        "id": "C51WDNjk8-hQ"
      }
    },
    {
      "cell_type": "code",
      "execution_count": null,
      "metadata": {
        "id": "1G_s5UxT8lBp"
      },
      "outputs": [],
      "source": [
        "import pandas as pd"
      ]
    },
    {
      "cell_type": "code",
      "source": [
        "df = pd.read_excel('https://raw.githubusercontent.com/wtitze/3E/main/Teams.xlsx')\n",
        "df"
      ],
      "metadata": {
        "id": "cKIqUQC39QGW"
      },
      "execution_count": null,
      "outputs": []
    },
    {
      "cell_type": "markdown",
      "source": [
        "quante sono le squadre italiane?\n"
      ],
      "metadata": {
        "id": "YhfvgfTY-aqg"
      }
    },
    {
      "cell_type": "code",
      "source": [
        "df[df.Name=='Italy'].count()['Name']"
      ],
      "metadata": {
        "id": "5dhnqmRF-aGw"
      },
      "execution_count": null,
      "outputs": []
    },
    {
      "cell_type": "markdown",
      "source": [
        "quante sono le squadre crucche(tedesche)?"
      ],
      "metadata": {
        "id": "V3lHCo01_Gih"
      }
    },
    {
      "cell_type": "code",
      "source": [
        "df[df.Name=='Germany'].count()['Name']"
      ],
      "metadata": {
        "id": "v4yuPK27_NTz"
      },
      "execution_count": null,
      "outputs": []
    },
    {
      "cell_type": "markdown",
      "source": [
        "**(importante)**\n",
        "quante sono le squadre di ogni nazione?"
      ],
      "metadata": {
        "id": "5q4SeVE__aCK"
      }
    },
    {
      "cell_type": "code",
      "source": [
        "dfgroup=df.groupby('Name').count()[[\"NOC\"]]"
      ],
      "metadata": {
        "id": "jCWdAhCr_hGC"
      },
      "execution_count": null,
      "outputs": []
    },
    {
      "cell_type": "code",
      "source": [
        "dfgroup[dfgroup.NOC>10]#Nazioni che hanno più di 10 squadre"
      ],
      "metadata": {
        "id": "-Fr8GQUsBA_k"
      },
      "execution_count": null,
      "outputs": []
    },
    {
      "cell_type": "code",
      "source": [
        "dfgroup=df.groupby('Name').count().reset_index()#reset_index serve per avere l'indice standard\n",
        "dfgroup"
      ],
      "metadata": {
        "id": "pJKbepY7BvlC"
      },
      "execution_count": null,
      "outputs": []
    },
    {
      "cell_type": "markdown",
      "source": [
        "**Esercizi**\n",
        "\n"
      ],
      "metadata": {
        "id": "IhJovjdxC2cb"
      }
    },
    {
      "cell_type": "code",
      "source": [
        "import pandas as pd"
      ],
      "metadata": {
        "id": "X4xYz2J7DinU"
      },
      "execution_count": null,
      "outputs": []
    },
    {
      "cell_type": "code",
      "source": [
        "df = pd.read_csv('https://raw.githubusercontent.com/wtitze/3E/main/2010.csv', sep=\";\")\n",
        "df"
      ],
      "metadata": {
        "colab": {
          "base_uri": "https://localhost:8080/",
          "height": 713
        },
        "id": "G_o6cXdNC8Uf",
        "outputId": "9a350329-8dab-4b5e-86db-c6ee498bb93d"
      },
      "execution_count": null,
      "outputs": [
        {
          "output_type": "execute_result",
          "data": {
            "text/plain": [
              "                                     Title    Year  \\\n",
              "0                               127 Hours   2010.0   \n",
              "1                             3 Backyards   2010.0   \n",
              "2                                       3   2010.0   \n",
              "3               8: The Mormon Proposition   2010.0   \n",
              "4     A Turtle's Tale: Sammy's Adventures   2010.0   \n",
              "...                                    ...     ...   \n",
              "1599              War & Peace                  NaN   \n",
              "1600                    Wings                  NaN   \n",
              "1601               Wolf Creek                  NaN   \n",
              "1602        Wuthering Heights                  NaN   \n",
              "1603  Yu-Gi-Oh! Duel Monsters                  NaN   \n",
              "\n",
              "                                         Genres  Language    Country  \\\n",
              "0            Adventure|Biography|Drama|Thriller   English        USA   \n",
              "1                                         Drama   English        USA   \n",
              "2                          Comedy|Drama|Romance    German    Germany   \n",
              "3                                   Documentary   English        USA   \n",
              "4                    Adventure|Animation|Family   English     France   \n",
              "...                                         ...       ...        ...   \n",
              "1599                  Drama|History|Romance|War   English         UK   \n",
              "1600                               Comedy|Drama   English        USA   \n",
              "1601                      Drama|Horror|Thriller   English  Australia   \n",
              "1602                              Drama|Romance   English         UK   \n",
              "1603  Action|Adventure|Animation|Family|Fantasy  Japanese      Japan   \n",
              "\n",
              "     Content Rating  Duration Aspect Ratio      Budget  Gross Earnings  ...  \\\n",
              "0                 R      94.0         1,85  18000000.0      18329466.0  ...   \n",
              "1                 R      88.0          NaN    300000.0             NaN  ...   \n",
              "2           Unrated     119.0         2,35         NaN         59774.0  ...   \n",
              "3                 R      80.0         1,78   2500000.0         99851.0  ...   \n",
              "4                PG      88.0         2,35         NaN             NaN  ...   \n",
              "...             ...       ...          ...         ...             ...  ...   \n",
              "1599          TV-14       NaN           16         NaN             NaN  ...   \n",
              "1600            NaN      30.0         1,33         NaN             NaN  ...   \n",
              "1601            NaN       NaN            2         NaN             NaN  ...   \n",
              "1602            NaN     142.0          NaN         NaN             NaN  ...   \n",
              "1603            NaN      24.0          NaN         NaN             NaN  ...   \n",
              "\n",
              "     Facebook Likes - Actor 2 Facebook Likes - Actor 3  \\\n",
              "0                       642.0                    223.0   \n",
              "1                       659.0                    301.0   \n",
              "2                        20.0                      9.0   \n",
              "3                        12.0                      5.0   \n",
              "4                       749.0                    602.0   \n",
              "...                       ...                      ...   \n",
              "1599                    888.0                    502.0   \n",
              "1600                    511.0                    424.0   \n",
              "1601                    457.0                    206.0   \n",
              "1602                    698.0                    427.0   \n",
              "1603                      NaN                      NaN   \n",
              "\n",
              "     Facebook Likes - cast Total Facebook likes - Movie  \\\n",
              "0                          11984                  63000   \n",
              "1                           1884                     92   \n",
              "2                             69                   2000   \n",
              "3                            210                      0   \n",
              "4                           3874                      0   \n",
              "...                          ...                    ...   \n",
              "1599                        4528                  11000   \n",
              "1600                        1884                   1000   \n",
              "1601                        1617                    954   \n",
              "1602                       29196                      0   \n",
              "1603                           0                    124   \n",
              "\n",
              "      Facenumber in posters  User Votes  Reviews by Users  Reviews by Crtiics  \\\n",
              "0                       0.0      279179             440.0               450.0   \n",
              "1                       0.0         554              23.0                20.0   \n",
              "2                       0.0        4212              18.0                76.0   \n",
              "3                       0.0        1138              30.0                28.0   \n",
              "4                       2.0        5385              22.0                56.0   \n",
              "...                     ...         ...               ...                 ...   \n",
              "1599                    1.0        9277              44.0                10.0   \n",
              "1600                    5.0        7646              56.0                19.0   \n",
              "1601                    0.0         726               6.0                 2.0   \n",
              "1602                    2.0        6053              33.0                 9.0   \n",
              "1603                    0.0       12417              51.0                 6.0   \n",
              "\n",
              "      IMDB Score  Unnamed: 25  \n",
              "0            7,6          NaN  \n",
              "1            5,2          NaN  \n",
              "2            6,8          NaN  \n",
              "3            7,1          NaN  \n",
              "4            6,1          NaN  \n",
              "...          ...          ...  \n",
              "1599         8,2          NaN  \n",
              "1600         7,3          NaN  \n",
              "1601         7,1          NaN  \n",
              "1602         7,7          NaN  \n",
              "1603           7          NaN  \n",
              "\n",
              "[1604 rows x 26 columns]"
            ],
            "text/html": [
              "\n",
              "  <div id=\"df-c5e965df-3dd3-47f3-b886-98843aea1d8f\">\n",
              "    <div class=\"colab-df-container\">\n",
              "      <div>\n",
              "<style scoped>\n",
              "    .dataframe tbody tr th:only-of-type {\n",
              "        vertical-align: middle;\n",
              "    }\n",
              "\n",
              "    .dataframe tbody tr th {\n",
              "        vertical-align: top;\n",
              "    }\n",
              "\n",
              "    .dataframe thead th {\n",
              "        text-align: right;\n",
              "    }\n",
              "</style>\n",
              "<table border=\"1\" class=\"dataframe\">\n",
              "  <thead>\n",
              "    <tr style=\"text-align: right;\">\n",
              "      <th></th>\n",
              "      <th>Title</th>\n",
              "      <th>Year</th>\n",
              "      <th>Genres</th>\n",
              "      <th>Language</th>\n",
              "      <th>Country</th>\n",
              "      <th>Content Rating</th>\n",
              "      <th>Duration</th>\n",
              "      <th>Aspect Ratio</th>\n",
              "      <th>Budget</th>\n",
              "      <th>Gross Earnings</th>\n",
              "      <th>...</th>\n",
              "      <th>Facebook Likes - Actor 2</th>\n",
              "      <th>Facebook Likes - Actor 3</th>\n",
              "      <th>Facebook Likes - cast Total</th>\n",
              "      <th>Facebook likes - Movie</th>\n",
              "      <th>Facenumber in posters</th>\n",
              "      <th>User Votes</th>\n",
              "      <th>Reviews by Users</th>\n",
              "      <th>Reviews by Crtiics</th>\n",
              "      <th>IMDB Score</th>\n",
              "      <th>Unnamed: 25</th>\n",
              "    </tr>\n",
              "  </thead>\n",
              "  <tbody>\n",
              "    <tr>\n",
              "      <th>0</th>\n",
              "      <td>127 Hours</td>\n",
              "      <td>2010.0</td>\n",
              "      <td>Adventure|Biography|Drama|Thriller</td>\n",
              "      <td>English</td>\n",
              "      <td>USA</td>\n",
              "      <td>R</td>\n",
              "      <td>94.0</td>\n",
              "      <td>1,85</td>\n",
              "      <td>18000000.0</td>\n",
              "      <td>18329466.0</td>\n",
              "      <td>...</td>\n",
              "      <td>642.0</td>\n",
              "      <td>223.0</td>\n",
              "      <td>11984</td>\n",
              "      <td>63000</td>\n",
              "      <td>0.0</td>\n",
              "      <td>279179</td>\n",
              "      <td>440.0</td>\n",
              "      <td>450.0</td>\n",
              "      <td>7,6</td>\n",
              "      <td>NaN</td>\n",
              "    </tr>\n",
              "    <tr>\n",
              "      <th>1</th>\n",
              "      <td>3 Backyards</td>\n",
              "      <td>2010.0</td>\n",
              "      <td>Drama</td>\n",
              "      <td>English</td>\n",
              "      <td>USA</td>\n",
              "      <td>R</td>\n",
              "      <td>88.0</td>\n",
              "      <td>NaN</td>\n",
              "      <td>300000.0</td>\n",
              "      <td>NaN</td>\n",
              "      <td>...</td>\n",
              "      <td>659.0</td>\n",
              "      <td>301.0</td>\n",
              "      <td>1884</td>\n",
              "      <td>92</td>\n",
              "      <td>0.0</td>\n",
              "      <td>554</td>\n",
              "      <td>23.0</td>\n",
              "      <td>20.0</td>\n",
              "      <td>5,2</td>\n",
              "      <td>NaN</td>\n",
              "    </tr>\n",
              "    <tr>\n",
              "      <th>2</th>\n",
              "      <td>3</td>\n",
              "      <td>2010.0</td>\n",
              "      <td>Comedy|Drama|Romance</td>\n",
              "      <td>German</td>\n",
              "      <td>Germany</td>\n",
              "      <td>Unrated</td>\n",
              "      <td>119.0</td>\n",
              "      <td>2,35</td>\n",
              "      <td>NaN</td>\n",
              "      <td>59774.0</td>\n",
              "      <td>...</td>\n",
              "      <td>20.0</td>\n",
              "      <td>9.0</td>\n",
              "      <td>69</td>\n",
              "      <td>2000</td>\n",
              "      <td>0.0</td>\n",
              "      <td>4212</td>\n",
              "      <td>18.0</td>\n",
              "      <td>76.0</td>\n",
              "      <td>6,8</td>\n",
              "      <td>NaN</td>\n",
              "    </tr>\n",
              "    <tr>\n",
              "      <th>3</th>\n",
              "      <td>8: The Mormon Proposition</td>\n",
              "      <td>2010.0</td>\n",
              "      <td>Documentary</td>\n",
              "      <td>English</td>\n",
              "      <td>USA</td>\n",
              "      <td>R</td>\n",
              "      <td>80.0</td>\n",
              "      <td>1,78</td>\n",
              "      <td>2500000.0</td>\n",
              "      <td>99851.0</td>\n",
              "      <td>...</td>\n",
              "      <td>12.0</td>\n",
              "      <td>5.0</td>\n",
              "      <td>210</td>\n",
              "      <td>0</td>\n",
              "      <td>0.0</td>\n",
              "      <td>1138</td>\n",
              "      <td>30.0</td>\n",
              "      <td>28.0</td>\n",
              "      <td>7,1</td>\n",
              "      <td>NaN</td>\n",
              "    </tr>\n",
              "    <tr>\n",
              "      <th>4</th>\n",
              "      <td>A Turtle's Tale: Sammy's Adventures</td>\n",
              "      <td>2010.0</td>\n",
              "      <td>Adventure|Animation|Family</td>\n",
              "      <td>English</td>\n",
              "      <td>France</td>\n",
              "      <td>PG</td>\n",
              "      <td>88.0</td>\n",
              "      <td>2,35</td>\n",
              "      <td>NaN</td>\n",
              "      <td>NaN</td>\n",
              "      <td>...</td>\n",
              "      <td>749.0</td>\n",
              "      <td>602.0</td>\n",
              "      <td>3874</td>\n",
              "      <td>0</td>\n",
              "      <td>2.0</td>\n",
              "      <td>5385</td>\n",
              "      <td>22.0</td>\n",
              "      <td>56.0</td>\n",
              "      <td>6,1</td>\n",
              "      <td>NaN</td>\n",
              "    </tr>\n",
              "    <tr>\n",
              "      <th>...</th>\n",
              "      <td>...</td>\n",
              "      <td>...</td>\n",
              "      <td>...</td>\n",
              "      <td>...</td>\n",
              "      <td>...</td>\n",
              "      <td>...</td>\n",
              "      <td>...</td>\n",
              "      <td>...</td>\n",
              "      <td>...</td>\n",
              "      <td>...</td>\n",
              "      <td>...</td>\n",
              "      <td>...</td>\n",
              "      <td>...</td>\n",
              "      <td>...</td>\n",
              "      <td>...</td>\n",
              "      <td>...</td>\n",
              "      <td>...</td>\n",
              "      <td>...</td>\n",
              "      <td>...</td>\n",
              "      <td>...</td>\n",
              "      <td>...</td>\n",
              "    </tr>\n",
              "    <tr>\n",
              "      <th>1599</th>\n",
              "      <td>War &amp; Peace</td>\n",
              "      <td>NaN</td>\n",
              "      <td>Drama|History|Romance|War</td>\n",
              "      <td>English</td>\n",
              "      <td>UK</td>\n",
              "      <td>TV-14</td>\n",
              "      <td>NaN</td>\n",
              "      <td>16</td>\n",
              "      <td>NaN</td>\n",
              "      <td>NaN</td>\n",
              "      <td>...</td>\n",
              "      <td>888.0</td>\n",
              "      <td>502.0</td>\n",
              "      <td>4528</td>\n",
              "      <td>11000</td>\n",
              "      <td>1.0</td>\n",
              "      <td>9277</td>\n",
              "      <td>44.0</td>\n",
              "      <td>10.0</td>\n",
              "      <td>8,2</td>\n",
              "      <td>NaN</td>\n",
              "    </tr>\n",
              "    <tr>\n",
              "      <th>1600</th>\n",
              "      <td>Wings</td>\n",
              "      <td>NaN</td>\n",
              "      <td>Comedy|Drama</td>\n",
              "      <td>English</td>\n",
              "      <td>USA</td>\n",
              "      <td>NaN</td>\n",
              "      <td>30.0</td>\n",
              "      <td>1,33</td>\n",
              "      <td>NaN</td>\n",
              "      <td>NaN</td>\n",
              "      <td>...</td>\n",
              "      <td>511.0</td>\n",
              "      <td>424.0</td>\n",
              "      <td>1884</td>\n",
              "      <td>1000</td>\n",
              "      <td>5.0</td>\n",
              "      <td>7646</td>\n",
              "      <td>56.0</td>\n",
              "      <td>19.0</td>\n",
              "      <td>7,3</td>\n",
              "      <td>NaN</td>\n",
              "    </tr>\n",
              "    <tr>\n",
              "      <th>1601</th>\n",
              "      <td>Wolf Creek</td>\n",
              "      <td>NaN</td>\n",
              "      <td>Drama|Horror|Thriller</td>\n",
              "      <td>English</td>\n",
              "      <td>Australia</td>\n",
              "      <td>NaN</td>\n",
              "      <td>NaN</td>\n",
              "      <td>2</td>\n",
              "      <td>NaN</td>\n",
              "      <td>NaN</td>\n",
              "      <td>...</td>\n",
              "      <td>457.0</td>\n",
              "      <td>206.0</td>\n",
              "      <td>1617</td>\n",
              "      <td>954</td>\n",
              "      <td>0.0</td>\n",
              "      <td>726</td>\n",
              "      <td>6.0</td>\n",
              "      <td>2.0</td>\n",
              "      <td>7,1</td>\n",
              "      <td>NaN</td>\n",
              "    </tr>\n",
              "    <tr>\n",
              "      <th>1602</th>\n",
              "      <td>Wuthering Heights</td>\n",
              "      <td>NaN</td>\n",
              "      <td>Drama|Romance</td>\n",
              "      <td>English</td>\n",
              "      <td>UK</td>\n",
              "      <td>NaN</td>\n",
              "      <td>142.0</td>\n",
              "      <td>NaN</td>\n",
              "      <td>NaN</td>\n",
              "      <td>NaN</td>\n",
              "      <td>...</td>\n",
              "      <td>698.0</td>\n",
              "      <td>427.0</td>\n",
              "      <td>29196</td>\n",
              "      <td>0</td>\n",
              "      <td>2.0</td>\n",
              "      <td>6053</td>\n",
              "      <td>33.0</td>\n",
              "      <td>9.0</td>\n",
              "      <td>7,7</td>\n",
              "      <td>NaN</td>\n",
              "    </tr>\n",
              "    <tr>\n",
              "      <th>1603</th>\n",
              "      <td>Yu-Gi-Oh! Duel Monsters</td>\n",
              "      <td>NaN</td>\n",
              "      <td>Action|Adventure|Animation|Family|Fantasy</td>\n",
              "      <td>Japanese</td>\n",
              "      <td>Japan</td>\n",
              "      <td>NaN</td>\n",
              "      <td>24.0</td>\n",
              "      <td>NaN</td>\n",
              "      <td>NaN</td>\n",
              "      <td>NaN</td>\n",
              "      <td>...</td>\n",
              "      <td>NaN</td>\n",
              "      <td>NaN</td>\n",
              "      <td>0</td>\n",
              "      <td>124</td>\n",
              "      <td>0.0</td>\n",
              "      <td>12417</td>\n",
              "      <td>51.0</td>\n",
              "      <td>6.0</td>\n",
              "      <td>7</td>\n",
              "      <td>NaN</td>\n",
              "    </tr>\n",
              "  </tbody>\n",
              "</table>\n",
              "<p>1604 rows × 26 columns</p>\n",
              "</div>\n",
              "      <button class=\"colab-df-convert\" onclick=\"convertToInteractive('df-c5e965df-3dd3-47f3-b886-98843aea1d8f')\"\n",
              "              title=\"Convert this dataframe to an interactive table.\"\n",
              "              style=\"display:none;\">\n",
              "        \n",
              "  <svg xmlns=\"http://www.w3.org/2000/svg\" height=\"24px\"viewBox=\"0 0 24 24\"\n",
              "       width=\"24px\">\n",
              "    <path d=\"M0 0h24v24H0V0z\" fill=\"none\"/>\n",
              "    <path d=\"M18.56 5.44l.94 2.06.94-2.06 2.06-.94-2.06-.94-.94-2.06-.94 2.06-2.06.94zm-11 1L8.5 8.5l.94-2.06 2.06-.94-2.06-.94L8.5 2.5l-.94 2.06-2.06.94zm10 10l.94 2.06.94-2.06 2.06-.94-2.06-.94-.94-2.06-.94 2.06-2.06.94z\"/><path d=\"M17.41 7.96l-1.37-1.37c-.4-.4-.92-.59-1.43-.59-.52 0-1.04.2-1.43.59L10.3 9.45l-7.72 7.72c-.78.78-.78 2.05 0 2.83L4 21.41c.39.39.9.59 1.41.59.51 0 1.02-.2 1.41-.59l7.78-7.78 2.81-2.81c.8-.78.8-2.07 0-2.86zM5.41 20L4 18.59l7.72-7.72 1.47 1.35L5.41 20z\"/>\n",
              "  </svg>\n",
              "      </button>\n",
              "      \n",
              "  <style>\n",
              "    .colab-df-container {\n",
              "      display:flex;\n",
              "      flex-wrap:wrap;\n",
              "      gap: 12px;\n",
              "    }\n",
              "\n",
              "    .colab-df-convert {\n",
              "      background-color: #E8F0FE;\n",
              "      border: none;\n",
              "      border-radius: 50%;\n",
              "      cursor: pointer;\n",
              "      display: none;\n",
              "      fill: #1967D2;\n",
              "      height: 32px;\n",
              "      padding: 0 0 0 0;\n",
              "      width: 32px;\n",
              "    }\n",
              "\n",
              "    .colab-df-convert:hover {\n",
              "      background-color: #E2EBFA;\n",
              "      box-shadow: 0px 1px 2px rgba(60, 64, 67, 0.3), 0px 1px 3px 1px rgba(60, 64, 67, 0.15);\n",
              "      fill: #174EA6;\n",
              "    }\n",
              "\n",
              "    [theme=dark] .colab-df-convert {\n",
              "      background-color: #3B4455;\n",
              "      fill: #D2E3FC;\n",
              "    }\n",
              "\n",
              "    [theme=dark] .colab-df-convert:hover {\n",
              "      background-color: #434B5C;\n",
              "      box-shadow: 0px 1px 3px 1px rgba(0, 0, 0, 0.15);\n",
              "      filter: drop-shadow(0px 1px 2px rgba(0, 0, 0, 0.3));\n",
              "      fill: #FFFFFF;\n",
              "    }\n",
              "  </style>\n",
              "\n",
              "      <script>\n",
              "        const buttonEl =\n",
              "          document.querySelector('#df-c5e965df-3dd3-47f3-b886-98843aea1d8f button.colab-df-convert');\n",
              "        buttonEl.style.display =\n",
              "          google.colab.kernel.accessAllowed ? 'block' : 'none';\n",
              "\n",
              "        async function convertToInteractive(key) {\n",
              "          const element = document.querySelector('#df-c5e965df-3dd3-47f3-b886-98843aea1d8f');\n",
              "          const dataTable =\n",
              "            await google.colab.kernel.invokeFunction('convertToInteractive',\n",
              "                                                     [key], {});\n",
              "          if (!dataTable) return;\n",
              "\n",
              "          const docLinkHtml = 'Like what you see? Visit the ' +\n",
              "            '<a target=\"_blank\" href=https://colab.research.google.com/notebooks/data_table.ipynb>data table notebook</a>'\n",
              "            + ' to learn more about interactive tables.';\n",
              "          element.innerHTML = '';\n",
              "          dataTable['output_type'] = 'display_data';\n",
              "          await google.colab.output.renderOutput(dataTable, element);\n",
              "          const docLink = document.createElement('div');\n",
              "          docLink.innerHTML = docLinkHtml;\n",
              "          element.appendChild(docLink);\n",
              "        }\n",
              "      </script>\n",
              "    </div>\n",
              "  </div>\n",
              "  "
            ]
          },
          "metadata": {},
          "execution_count": 79
        }
      ]
    },
    {
      "cell_type": "markdown",
      "source": [
        "1. il numero di film per ogni lingua. Ordinare in ordine decrescente sul numero di film"
      ],
      "metadata": {
        "id": "A9YlLvSUIHyN"
      }
    },
    {
      "cell_type": "code",
      "source": [
        "dfgroup=df.groupby('Language').count().sort_values(by=[\"Title\"],ascending=False)[[\"Title\"]]\n",
        "dfgroup"
      ],
      "metadata": {
        "id": "eMXMtTTXEBX7"
      },
      "execution_count": null,
      "outputs": []
    },
    {
      "cell_type": "markdown",
      "source": [
        "2. il numero di film per ogni nazione."
      ],
      "metadata": {
        "id": "Bf1bl6q7C8mX"
      }
    },
    {
      "cell_type": "code",
      "source": [
        "dfgroup=df.groupby('Country').count().sort_values(by=[\"Title\"],ascending=False)[[\"Title\"]]\n",
        "dfgroup"
      ],
      "metadata": {
        "id": "hJftLFxnC-jn"
      },
      "execution_count": null,
      "outputs": []
    },
    {
      "cell_type": "markdown",
      "source": [
        "3. il budget totale che ogni nazione ha investito nei film. Ordinare in ordine decrescente in base al budget totale"
      ],
      "metadata": {
        "id": "8S5784cSC-1A"
      }
    },
    {
      "cell_type": "code",
      "source": [
        "dfgroup=df.groupby('Country').sum().sort_values(by=[\"Budget\"],ascending=False)[[\"Budget\"]]\n",
        "dfgroup#errore"
      ],
      "metadata": {
        "id": "P1trWKC2DAuX"
      },
      "execution_count": null,
      "outputs": []
    },
    {
      "cell_type": "code",
      "source": [
        "#correzione"
      ],
      "metadata": {
        "id": "iCW2i9K7H2Rc"
      },
      "execution_count": null,
      "outputs": []
    },
    {
      "cell_type": "markdown",
      "source": [
        "4. la nazione che ha investito il budget più alto"
      ],
      "metadata": {
        "id": "HAHExaJeDBFX"
      }
    },
    {
      "cell_type": "code",
      "source": [],
      "metadata": {
        "id": "fGDoA0FjDDXH"
      },
      "execution_count": null,
      "outputs": []
    },
    {
      "cell_type": "code",
      "source": [
        "dfgroup=df.groupby('Country').sum().sort_values(by=[\"Budget\"],ascending=False)[[\"Budget\"]]\n",
        "dfgroup\n",
        "#correzione\n",
        "#prima calcolare il budget totale poi trovare il massimo"
      ],
      "metadata": {
        "id": "CUS1E273H3-M"
      },
      "execution_count": null,
      "outputs": []
    },
    {
      "cell_type": "code",
      "source": [
        "dfgroup[dfgroup[\"Budget\"]==dfgroup[\"Budget\"].max()]"
      ],
      "metadata": {
        "id": "M659HbvsKfoj"
      },
      "execution_count": null,
      "outputs": []
    },
    {
      "cell_type": "markdown",
      "source": [
        "5. il budget medio che ogni nazione ha investito nei film. Ordinare in ordine decrescente base al budget medio"
      ],
      "metadata": {
        "id": "3Xv4WIbuDDjW"
      }
    },
    {
      "cell_type": "code",
      "source": [
        "df.groupby('Country')['Budget'].mean()"
      ],
      "metadata": {
        "id": "MUN6lSzTDFtj"
      },
      "execution_count": null,
      "outputs": []
    },
    {
      "cell_type": "markdown",
      "source": [
        "6. le nazioni che hanno investito, in media, un budget più basso rispetto alla media complessiva dei budget delle nazioni"
      ],
      "metadata": {
        "id": "MG68rARTDGBL"
      }
    },
    {
      "cell_type": "code",
      "source": [
        "mediaperfilm=df.Budget.mean()\n",
        "mediaperfilm"
      ],
      "metadata": {
        "id": "Vlw7qQc9DIqL"
      },
      "execution_count": null,
      "outputs": []
    },
    {
      "cell_type": "code",
      "source": [
        "mediapernazione=df.groupby('Country')[['Budget']].mean()\n",
        "mediapernazione"
      ],
      "metadata": {
        "id": "4r1yo8qSNoHe"
      },
      "execution_count": null,
      "outputs": []
    },
    {
      "cell_type": "code",
      "source": [
        "mediapernazione[mediapernazione.Budget<mediaperfilm]\n",
        "#metodo per trovare le nazioni che hanno speso di meno della media complessiva "
      ],
      "metadata": {
        "id": "DIkhTtaiOCfA"
      },
      "execution_count": null,
      "outputs": []
    },
    {
      "cell_type": "code",
      "source": [
        "#correzione"
      ],
      "metadata": {
        "id": "Fb1Nc5HfH74t"
      },
      "execution_count": null,
      "outputs": []
    },
    {
      "cell_type": "markdown",
      "source": [
        "7. il numero di film per ogni regista"
      ],
      "metadata": {
        "id": "Tf_7Pi_aDLCr"
      }
    },
    {
      "cell_type": "code",
      "source": [
        "dfgroup=df.groupby('Director').count()[[\"Title\"]]\n",
        "dfgroup"
      ],
      "metadata": {
        "id": "YuRpOTt2DNIj"
      },
      "execution_count": null,
      "outputs": []
    },
    {
      "cell_type": "markdown",
      "source": [
        "8. il regista che ha diretto più film"
      ],
      "metadata": {
        "id": "1knEfF30DNVT"
      }
    },
    {
      "cell_type": "code",
      "source": [
        "dfgroup=df.groupby('Director').count()[[\"Title\"]]\n",
        "dfgroup#Errore"
      ],
      "metadata": {
        "id": "BoZza06EDPob"
      },
      "execution_count": null,
      "outputs": []
    },
    {
      "cell_type": "code",
      "source": [
        "dfgroup[\"Title\"].max()\n",
        "\n",
        "#correzione"
      ],
      "metadata": {
        "id": "QZj10DmfPf3A"
      },
      "execution_count": null,
      "outputs": []
    },
    {
      "cell_type": "code",
      "source": [
        "dfgroup[dfgroup[\"Title\"]==dfgroup[\"Title\"].max()]"
      ],
      "metadata": {
        "id": "Wgac_q18QNml"
      },
      "execution_count": null,
      "outputs": []
    },
    {
      "cell_type": "markdown",
      "source": [
        "9. il numero di film per ogni genere"
      ],
      "metadata": {
        "id": "3QR2L0v3DRFr"
      }
    },
    {
      "cell_type": "code",
      "source": [
        "dfgroup=df.groupby('Genres').count()[[\"Title\"]]\n",
        "dfgroup"
      ],
      "metadata": {
        "id": "G5klsFb1DUE8"
      },
      "execution_count": null,
      "outputs": []
    }
  ]
}