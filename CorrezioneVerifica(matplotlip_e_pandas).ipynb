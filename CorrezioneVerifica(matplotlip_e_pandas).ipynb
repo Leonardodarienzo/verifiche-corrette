{
  "nbformat": 4,
  "nbformat_minor": 0,
  "metadata": {
    "colab": {
      "provenance": [],
      "include_colab_link": true
    },
    "kernelspec": {
      "name": "python3",
      "display_name": "Python 3"
    },
    "language_info": {
      "name": "python"
    }
  },
  "cells": [
    {
      "cell_type": "markdown",
      "metadata": {
        "id": "view-in-github",
        "colab_type": "text"
      },
      "source": [
        "<a href=\"https://colab.research.google.com/github/Leonardodarienzo/verifiche-corrette/blob/main/CorrezioneVerifica(matplotlip_e_pandas).ipynb\" target=\"_parent\"><img src=\"https://colab.research.google.com/assets/colab-badge.svg\" alt=\"Open In Colab\"/></a>"
      ]
    },
    {
      "cell_type": "markdown",
      "source": [
        "1. il numero di comuni italiani"
      ],
      "metadata": {
        "id": "CVAPu81v54Hb"
      }
    },
    {
      "cell_type": "code",
      "source": [
        "import pandas as pd"
      ],
      "metadata": {
        "id": "csGJ1_xX7LED"
      },
      "execution_count": null,
      "outputs": []
    },
    {
      "cell_type": "code",
      "execution_count": null,
      "metadata": {
        "id": "RIMOO3Nb517q"
      },
      "outputs": [],
      "source": [
        "df = pd.read_json('https://raw.githubusercontent.com/wtitze/4E/main/comuni_italiani.json')\n",
        "df"
      ]
    },
    {
      "cell_type": "code",
      "source": [
        "len(df[\"Denominazione in italiano\"])"
      ],
      "metadata": {
        "id": "RNInU_aqN0so"
      },
      "execution_count": null,
      "outputs": []
    },
    {
      "cell_type": "markdown",
      "source": [
        "2. il numero di province italiane"
      ],
      "metadata": {
        "id": "-zW1X3Fc6VXE"
      }
    },
    {
      "cell_type": "code",
      "source": [
        "dfgroup=df.groupby('Denominazione in italiano').count()\n",
        "dfgroup\n",
        "len(dfgroup[\"Provincia\"])"
      ],
      "metadata": {
        "id": "5_fuMgz36Xcb"
      },
      "execution_count": null,
      "outputs": []
    },
    {
      "cell_type": "code",
      "source": [
        "#correzzione\n",
        "len(set(df[\"Provincia\"]))"
      ],
      "metadata": {
        "id": "8OszsvWJBs4w"
      },
      "execution_count": null,
      "outputs": []
    },
    {
      "cell_type": "markdown",
      "source": [
        "3. il numero di province per ogni regione"
      ],
      "metadata": {
        "id": "8Rv5EBSc6Xo7"
      }
    },
    {
      "cell_type": "code",
      "source": [
        "dfgroup=df.groupby('Denominazione Regione').count()[[\"Provincia\"]]\n",
        "dfgroup"
      ],
      "metadata": {
        "id": "Q7eVgCrE6cHL"
      },
      "execution_count": null,
      "outputs": []
    },
    {
      "cell_type": "code",
      "source": [
        "#correzione\n",
        "dfgroup2 = df.groupby(['Denominazione Regione', 'Provincia']).count()[[\"Ripartizione geografica\"]]\n",
        "dfgroup3=dfgroup2.groupby('Denominazione Regione').count()\n",
        "dfgroup3"
      ],
      "metadata": {
        "id": "fbmf3yUnFAfH"
      },
      "execution_count": null,
      "outputs": []
    },
    {
      "cell_type": "markdown",
      "source": [
        "4. il numero di comuni per ogni provincia. Ordinare in ordina decrescente partire dalla regione con più comuni"
      ],
      "metadata": {
        "id": "XQ2udJv_6cY7"
      }
    },
    {
      "cell_type": "code",
      "source": [
        "dfgroup=df.groupby('Provincia').count().sort_values(by=[\"Denominazione in italiano\"],ascending=False)[[\"Denominazione in italiano\"]]\n",
        "dfgroup"
      ],
      "metadata": {
        "id": "YJqGPeBX6dIk"
      },
      "execution_count": null,
      "outputs": []
    },
    {
      "cell_type": "markdown",
      "source": [
        "5. la provincia con meno comuni"
      ],
      "metadata": {
        "id": "VIz4C_zZ6deC"
      }
    },
    {
      "cell_type": "code",
      "source": [
        "dfgroup=df.groupby('Provincia').count().sort_values(by=[\"Denominazione in italiano\"],ascending=True)[[\"Denominazione in italiano\"]]\n",
        "dfgroup"
      ],
      "metadata": {
        "id": "qUx6Jhtk6ga6"
      },
      "execution_count": null,
      "outputs": []
    },
    {
      "cell_type": "code",
      "source": [
        "dfgroup[dfgroup[\"Denominazione in italiano\"]==dfgroup[\"Denominazione in italiano\"].min()]"
      ],
      "metadata": {
        "id": "LOrsMDPuAT1S"
      },
      "execution_count": null,
      "outputs": []
    },
    {
      "cell_type": "markdown",
      "source": [
        "6. la regione con più province"
      ],
      "metadata": {
        "id": "TeRS-BPv6gkS"
      }
    },
    {
      "cell_type": "code",
      "source": [
        "dfgroup=df.groupby('Denominazione Regione').count().sort_values(by=[\"Provincia\"],ascending=False)[[\"Provincia\"]]\n",
        "dfgroup"
      ],
      "metadata": {
        "id": "NmZcJdMw6hQq"
      },
      "execution_count": null,
      "outputs": []
    },
    {
      "cell_type": "code",
      "source": [
        "dfgroup[dfgroup[\"Provincia\"]==dfgroup[\"Provincia\"].max()]"
      ],
      "metadata": {
        "id": "z9IarC1DAkgD"
      },
      "execution_count": null,
      "outputs": []
    },
    {
      "cell_type": "code",
      "source": [
        "#correzione\n",
        "dfgroup3[dfgroup3[\"Ripartizione geografica\"]==dfgroup3[\"Ripartizione geografica\"].max()]"
      ],
      "metadata": {
        "id": "nxtP_rCsJvz4"
      },
      "execution_count": null,
      "outputs": []
    },
    {
      "cell_type": "markdown",
      "source": [
        "7. il numero medio di comuni nelle varie province"
      ],
      "metadata": {
        "id": "UMd_d7_96hca"
      }
    },
    {
      "cell_type": "code",
      "source": [
        "dfgroup=df.groupby('Provincia').count().sort_values(by=[\"Denominazione in italiano\"],ascending=False)[[\"Denominazione in italiano\"]]\n",
        "dfgroup"
      ],
      "metadata": {
        "id": "zuSdzy9FBgHV"
      },
      "execution_count": null,
      "outputs": []
    },
    {
      "cell_type": "code",
      "source": [
        "numeromediodicomuni=dfgroup.groupby('Provincia')[['Denominazione in italiano']].mean()\n",
        "numeromediodicomuni"
      ],
      "metadata": {
        "id": "nVwyCabH6lsi"
      },
      "execution_count": null,
      "outputs": []
    },
    {
      "cell_type": "code",
      "source": [
        "#correzione\n",
        "dfgroup.mean()"
      ],
      "metadata": {
        "id": "6EhukDK_LMyI"
      },
      "execution_count": null,
      "outputs": []
    },
    {
      "cell_type": "markdown",
      "source": [
        "8. il grafico a barre orizzontali dell'esercizio 3"
      ],
      "metadata": {
        "id": "1PxlvHZ06l3j"
      }
    },
    {
      "cell_type": "code",
      "source": [
        "import matplotlib.pyplot as plt\n",
        "import numpy as np"
      ],
      "metadata": {
        "id": "Qo5zI2RCC_hB"
      },
      "execution_count": null,
      "outputs": []
    },
    {
      "cell_type": "code",
      "source": [
        "labels = df['Denominazione Regione']\n",
        "dati = df['Provincia']\n",
        "\n",
        "\n",
        "fig, ax = plt.subplots(figsize=(35,15))\n",
        "ax.barh(labels, dati, label='numero di provincie per ogni regione')"
      ],
      "metadata": {
        "id": "IFo-JAgh6qlL"
      },
      "execution_count": null,
      "outputs": []
    },
    {
      "cell_type": "code",
      "source": [
        "dfdati = df.groupby(\"Denominazione Regione\").count()[[\"Provincia\"]].reset_index()\n",
        "labels = dfdati['Denominazione Regione']\n",
        "dati = dfdati['Provincia']\n",
        "\n",
        "\n",
        "fig, ax = plt.subplots(figsize=(35,15))\n",
        "ax.barh(labels, dati, label='numero di provincie per ogni regione')"
      ],
      "metadata": {
        "id": "7vAVTVPsMVvo"
      },
      "execution_count": null,
      "outputs": []
    },
    {
      "cell_type": "markdown",
      "source": [
        "9. il grafico treemap dell'esercizio 3"
      ],
      "metadata": {
        "id": "ik_lssMO6quj"
      }
    },
    {
      "cell_type": "code",
      "source": [
        "!pip install squarify"
      ],
      "metadata": {
        "colab": {
          "base_uri": "https://localhost:8080/"
        },
        "id": "sw81jLyJO5pX",
        "outputId": "f96e9664-f3bd-4963-cd7b-5a69767c92bd"
      },
      "execution_count": null,
      "outputs": [
        {
          "output_type": "stream",
          "name": "stdout",
          "text": [
            "Installing collected packages: squarify\n",
            "Successfully installed squarify-0.4.3\n"
          ]
        }
      ]
    },
    {
      "cell_type": "code",
      "source": [
        "import squarify\n",
        "\n",
        "dfdati = df.groupby('Denominazione Regione').count()[['Provincia']].reset_index()\n",
        "labels = dfdati['Denominazione Regione']\n",
        "dati = dfdati['Provincia']\n",
        "\n",
        "squarify.plot(dati, label=labels, alpha=0.8, color=['blue','green','purple'])\n",
        "plt.axis('off')\n",
        "plt.show()"
      ],
      "metadata": {
        "id": "APCxxGll6rcS"
      },
      "execution_count": null,
      "outputs": []
    },
    {
      "cell_type": "markdown",
      "source": [
        "**Esercizio 2**"
      ],
      "metadata": {
        "id": "pIsmMjiIFClx"
      }
    },
    {
      "cell_type": "markdown",
      "source": [
        "1. il numero di film (movie)"
      ],
      "metadata": {
        "id": "RlmN7zsoFPOg"
      }
    },
    {
      "cell_type": "code",
      "source": [
        "from pandas._libs.algos import diff_2d\n",
        "df = pd.read_csv('https://raw.githubusercontent.com/wtitze/4E/main/netflix_titles.csv')\n",
        "df"
      ],
      "metadata": {
        "id": "1_ENJ2SzFGCZ"
      },
      "execution_count": null,
      "outputs": []
    },
    {
      "cell_type": "code",
      "source": [
        "df[df.type=='Movie'].count()['type']"
      ],
      "metadata": {
        "id": "VViIbRgnHllZ",
        "colab": {
          "base_uri": "https://localhost:8080/"
        },
        "outputId": "9cfbe86b-a988-46a3-8e15-86e2a04f6e07"
      },
      "execution_count": null,
      "outputs": [
        {
          "output_type": "execute_result",
          "data": {
            "text/plain": [
              "6131"
            ]
          },
          "metadata": {},
          "execution_count": 9
        }
      ]
    },
    {
      "cell_type": "markdown",
      "source": [
        "2. il numero di film di cui non si conosce la nazione"
      ],
      "metadata": {
        "id": "rlG3QBDAGdCZ"
      }
    },
    {
      "cell_type": "code",
      "source": [
        "df[df[\"country\"].isnull()].count()[\"type\"]"
      ],
      "metadata": {
        "id": "PGVv3b9AGgxp",
        "colab": {
          "base_uri": "https://localhost:8080/"
        },
        "outputId": "ecd72e1c-608c-4aaa-eb7b-7bb61b5cad06"
      },
      "execution_count": null,
      "outputs": [
        {
          "output_type": "execute_result",
          "data": {
            "text/plain": [
              "831"
            ]
          },
          "metadata": {},
          "execution_count": 8
        }
      ]
    },
    {
      "cell_type": "markdown",
      "source": [
        "3. il numero di tv show rilasciati del 2010 al 2015 (estremi compresi)"
      ],
      "metadata": {
        "id": "sjUxyFeQGjig"
      }
    },
    {
      "cell_type": "code",
      "source": [
        "df[(df.release_year>=2010)&(df.release_year<=2015)][[\"title\",\"release_year\"]]"
      ],
      "metadata": {
        "id": "UqBwrYhMGjzQ"
      },
      "execution_count": null,
      "outputs": []
    },
    {
      "cell_type": "code",
      "source": [
        "#correzione\n",
        "df[(df.release_year>=2010)&(df.release_year<=2015)& (df.type=='TV Show')][[\"title\",\"release_year\"]].count()"
      ],
      "metadata": {
        "id": "XgBtaFUiRaZ2"
      },
      "execution_count": null,
      "outputs": []
    },
    {
      "cell_type": "markdown",
      "source": [
        "4. i titoli delle docuseries"
      ],
      "metadata": {
        "id": "wAKTskc3Gj9A"
      }
    },
    {
      "cell_type": "code",
      "source": [
        "df[df[\"listed_in\"].str.contains(\"Docuseries\")][\"title\"]"
      ],
      "metadata": {
        "id": "s_P5N_hmGkNw"
      },
      "execution_count": null,
      "outputs": []
    },
    {
      "cell_type": "markdown",
      "source": [
        "5. i titoli dei TV show che hanno nel titolo la parola zombie"
      ],
      "metadata": {
        "id": "Ccm3zikGGkd4"
      }
    },
    {
      "cell_type": "code",
      "source": [
        "df[df[\"title\"].str.contains(\"Zombie\")]"
      ],
      "metadata": {
        "id": "RCl8LrdLsNbS"
      },
      "execution_count": null,
      "outputs": []
    },
    {
      "cell_type": "code",
      "source": [
        "#correzione\n",
        "df[df[\"title\"].str.contains(\"Zombie\")& (df.type=='TV Show')][[\"title\"]]"
      ],
      "metadata": {
        "id": "Rj9s3hstGku5"
      },
      "execution_count": null,
      "outputs": []
    },
    {
      "cell_type": "markdown",
      "source": [
        "6. i film che sono stati aggiunti nel settembre 2021"
      ],
      "metadata": {
        "id": "UKAnnew0G2yh"
      }
    },
    {
      "cell_type": "code",
      "source": [
        "df[df[\"date_added\"].str.contains(\"September\")& df[\"date_added\"].str.contains(\"2021\")&(df.type=='Movie')]"
      ],
      "metadata": {
        "id": "NSR5cXDrJ0Z4"
      },
      "execution_count": null,
      "outputs": []
    },
    {
      "cell_type": "markdown",
      "source": [
        "7. il numero di TV show iniziati in ogni anno"
      ],
      "metadata": {
        "id": "wMUni2nSG4kA"
      }
    },
    {
      "cell_type": "code",
      "source": [
        "df[df.type == \"TV Show\"].groupby(\"release_year\").count()[[\"title\"]]"
      ],
      "metadata": {
        "id": "KUZ-8ns8G7RA"
      },
      "execution_count": null,
      "outputs": []
    },
    {
      "cell_type": "markdown",
      "source": [
        "8. il grafico a barre verticali dell'esercizio 7"
      ],
      "metadata": {
        "id": "hHKaoU18G7cI"
      }
    },
    {
      "cell_type": "code",
      "source": [
        "labels = df['TV Show']\n",
        "dati = df['release_year']\n",
        "\n",
        "fig, ax = plt.subplots(figsize=(15,8))\n",
        "ax.bar(labels, dati, label='totale vaccinati in ogni regione')"
      ],
      "metadata": {
        "id": "pMcGlr5vG9FY"
      },
      "execution_count": null,
      "outputs": []
    },
    {
      "cell_type": "markdown",
      "source": [
        "9. il grafico a torta dell'esercizio 7"
      ],
      "metadata": {
        "id": "xbN5EtVkG9OY"
      }
    },
    {
      "cell_type": "code",
      "source": [],
      "metadata": {
        "id": "BaI9CC8nZ4qG"
      },
      "execution_count": null,
      "outputs": []
    }
  ]
}