{
  "nbformat": 4,
  "nbformat_minor": 0,
  "metadata": {
    "colab": {
      "provenance": [],
      "authorship_tag": "ABX9TyOIF3p20WttnkYq/CGy6Sz2",
      "include_colab_link": true
    },
    "kernelspec": {
      "name": "python3",
      "display_name": "Python 3"
    },
    "language_info": {
      "name": "python"
    }
  },
  "cells": [
    {
      "cell_type": "markdown",
      "metadata": {
        "id": "view-in-github",
        "colab_type": "text"
      },
      "source": [
        "<a href=\"https://colab.research.google.com/github/Leonardodarienzo/verifiche-corrette/blob/main/CorrezioneVerifica(liste).ipynb\" target=\"_parent\"><img src=\"https://colab.research.google.com/assets/colab-badge.svg\" alt=\"Open In Colab\"/></a>"
      ]
    },
    {
      "cell_type": "markdown",
      "source": [
        "1.caricare una lista con i primi 50 numeri di 5"
      ],
      "metadata": {
        "id": "aiYcKpghvfHF"
      }
    },
    {
      "cell_type": "code",
      "execution_count": null,
      "metadata": {
        "colab": {
          "base_uri": "https://localhost:8080/"
        },
        "id": "1_nXUJATvT7n",
        "outputId": "f73d10a8-36db-4d77-d0f8-38f275185ae7"
      },
      "outputs": [
        {
          "output_type": "stream",
          "name": "stdout",
          "text": [
            "[5, 10, 15, 20, 25, 30, 35, 40, 45, 50, 55, 60, 65, 70, 75, 80, 85, 90, 95, 100, 105, 110, 115, 120, 125, 130, 135, 140, 145, 150, 155, 160, 165, 170, 175, 180, 185, 190, 195, 200, 205, 210, 215, 220, 225, 230, 235, 240, 245, 250]\n"
          ]
        }
      ],
      "source": [
        "multipli = [i for i in range(5,255,5) ]\n",
        "print(multipli)"
      ]
    },
    {
      "cell_type": "code",
      "source": [
        "multipli = [i for i in range(5,255,5) ]"
      ],
      "metadata": {
        "id": "nummPXXYxOtX"
      },
      "execution_count": null,
      "outputs": []
    },
    {
      "cell_type": "markdown",
      "source": [
        "2."
      ],
      "metadata": {
        "id": "GOhbtOpJvhC9"
      }
    },
    {
      "cell_type": "code",
      "source": [
        "multipli10 = [mul for mul in multipli if mul % 10 == 0]\n",
        "print(multipli10)"
      ],
      "metadata": {
        "id": "uBBZKATxvh-8"
      },
      "execution_count": null,
      "outputs": []
    },
    {
      "cell_type": "markdown",
      "source": [],
      "metadata": {
        "id": "Mb5BTDyD_U_3"
      }
    },
    {
      "cell_type": "code",
      "source": [
        "count = 0\n",
        "for val in multipli10:\n",
        "  if val >= 30 and val <= 160:\n",
        "    multipli10.remove(val)\n",
        "    count += 1\n",
        "print(multipli10)"
      ],
      "metadata": {
        "id": "kCvi3YXq_VWX"
      },
      "execution_count": null,
      "outputs": []
    },
    {
      "cell_type": "markdown",
      "source": [
        "4.caricare in una nuova lista i 5 elementi centrali"
      ],
      "metadata": {
        "id": "-cT7tjNE_7JP"
      }
    },
    {
      "cell_type": "code",
      "source": [
        "print(multipli10[23:28])"
      ],
      "metadata": {
        "id": "vhk3Ets9_6r3"
      },
      "execution_count": null,
      "outputs": []
    },
    {
      "cell_type": "markdown",
      "source": [
        "print(len(multipli10))\n",
        "print(multipli10[len(multipli10)//2-2:len(multipli10)//2+3]"
      ],
      "metadata": {
        "id": "_vg0v6GKChIh"
      }
    },
    {
      "cell_type": "markdown",
      "source": [
        "5.moltiplicare per 10 tutti i numeri della lista precedente"
      ],
      "metadata": {
        "id": "tJOB1LpCDCLo"
      }
    },
    {
      "cell_type": "code",
      "source": [
        "multiplicentrali = []\n",
        "prodotti = [numero*10 for numero in multiplicentrali]\n",
        "print(prodotti)"
      ],
      "metadata": {
        "id": "M4DOwuNyDMUz"
      },
      "execution_count": null,
      "outputs": []
    },
    {
      "cell_type": "markdown",
      "source": [
        "6.mettere in un unica lista tutti i valori presenti nelle liste precedenti"
      ],
      "metadata": {
        "id": "mYTiSTwrDq_C"
      }
    },
    {
      "cell_type": "code",
      "source": [
        "listaunica = multipli+multipli10+multiplicentrali+prodotti\n",
        "print(listaunica)"
      ],
      "metadata": {
        "id": "U0BNG2AwD1ok"
      },
      "execution_count": null,
      "outputs": []
    },
    {
      "cell_type": "code",
      "source": [],
      "metadata": {
        "id": "4iOrTwQFDw2o"
      },
      "execution_count": null,
      "outputs": []
    },
    {
      "cell_type": "markdown",
      "source": [
        "1.visualizzre lo studene che si trova al numero 10 dell'elenco"
      ],
      "metadata": {
        "id": "oQbcOLpvEs0Q"
      }
    },
    {
      "cell_type": "code",
      "source": [
        "studenti = [Papes,Avasiloae,Cottone,Neri,Dipace,Fontana,Bernasconi,Milella,]"
      ],
      "metadata": {
        "id": "mXn0p_iYE7VQ"
      },
      "execution_count": null,
      "outputs": []
    },
    {
      "cell_type": "code",
      "source": [],
      "metadata": {
        "id": "R-MVsgh4EsjB"
      },
      "execution_count": null,
      "outputs": []
    }
  ]
}